{
 "cells": [
  {
   "cell_type": "code",
   "execution_count": 1,
   "metadata": {},
   "outputs": [],
   "source": [
    "# Udacity希望了解，在免費14天試學網頁上，除了要信用卡資訊外，還想了解學生願意花多少小時學。如果少於某門檻(5小時)，就建議學生不要註冊，免費聽聽影音就好，免得浪費資源，降低學習成功率。\n",
    "# 我們的題目是，增加這個頁面，是否對Gross Conversion(GC)和Net Conversion (NC)在統計學上(Alpha=0.05，Power=0.8)有幫助(d=0.01/0.0075)，亦即統計上的顯著(Significant)。\n",
    "# CI = click 數目\n",
    "# GC = 註冊數/CI (聽了建議仍然註冊的比例)\n",
    "# NC = 繳費數/CI (14天之後繳費且繼續的比例)\n",
    "# 我們期待GC比原來下降，但NC不降，這表示省去資源但收入不降。\n",
    "#載入程式庫\n",
    "import math as mt\n",
    "import numpy as np\n",
    "import pandas as pd\n",
    "from scipy.stats import norm"
   ]
  },
  {
   "cell_type": "code",
   "execution_count": 2,
   "metadata": {},
   "outputs": [
    {
     "name": "stdout",
     "output_type": "stream",
     "text": [
      "{'Cookies': 5000, 'Clicks': 400.0, 'Enrollments': 82.5, 'CTP': 0.08, 'GConversion': 0.20625, 'Retention': 0.53, 'NConversion': 0.109313}\n"
     ]
    }
   ],
   "source": [
    "#將基礎數據放入字典\n",
    "baseline = {\"Cookies\":40000,\"Clicks\":3200,\"Enrollments\":660,\"CTP\":0.08,\"GConversion\":0.20625,\n",
    "           \"Retention\":0.53,\"NConversion\":0.109313}\n",
    "#調整大小到以Cookie為基準\n",
    "baseline[\"Cookies\"] = 5000\n",
    "baseline[\"Clicks\"]=baseline[\"Clicks\"]*(5000/40000)\n",
    "baseline[\"Enrollments\"]=baseline[\"Enrollments\"]*(5000/40000)\n",
    "print(baseline)"
   ]
  },
  {
   "cell_type": "code",
   "execution_count": 4,
   "metadata": {},
   "outputs": [
    {
     "name": "stdout",
     "output_type": "stream",
     "text": [
      "0.0202\n",
      "0.0549\n",
      "0.0156\n"
     ]
    }
   ],
   "source": [
    "# 算出 Gross Conversion (GC) 的 p 和 n\n",
    "# 還有 Stansard Deviation(sd) rounded to 4 decimal digits\n",
    "GC={}\n",
    "GC['d_min']=0.01\n",
    "GC['p']=baseline['GConversion']\n",
    "#p is given in this case - or we could calculate it from enrollments/clicks\n",
    "GC['n']=baseline['Clicks']\n",
    "GC['sd']=round(mt.sqrt((GC['p']*(1-GC['p']))/GC['n']),4)\n",
    "print(GC['sd'])\n",
    "\n",
    "# Retention(R) \n",
    "R={}\n",
    "R['d_min']=0.01\n",
    "R['p']=baseline['Retention']\n",
    "R['n']=baseline['Enrollments']\n",
    "R['sd']=round(mt.sqrt((R['p']*(1-R['p']))/R['n']),4)\n",
    "print(R['sd'])\n",
    "\n",
    "# Net Conversion (NC)\n",
    "NC={}\n",
    "NC['d_min']=0.0075\n",
    "NC['p']=baseline['NConversion']\n",
    "NC['n']=baseline['Clicks']\n",
    "NC['sd']=round(mt.sqrt((NC['p']*(1-NC['p']))/NC['n']),4)\n",
    "print(NC['sd'])\n"
   ]
  },
  {
   "cell_type": "code",
   "execution_count": 5,
   "metadata": {},
   "outputs": [
    {
     "name": "stdout",
     "output_type": "stream",
     "text": [
      "25835.0\n",
      "645875.0\n",
      "39087.0\n",
      "4737818.181818182\n",
      "27413.0\n",
      "685325.0\n"
     ]
    }
   ],
   "source": [
    "#計算 Z-score\n",
    "def get_z_score(alpha):\n",
    "    return norm.ppf(alpha)\n",
    "# 得到兩個(A/B)標準差\n",
    "def get_sds(p,d):\n",
    "    sd1=mt.sqrt(2*p*(1-p))\n",
    "    sd2=mt.sqrt(p*(1-p)+(p+d)*(1-(p+d)))\n",
    "    sds=[sd1,sd2]\n",
    "    return sds\n",
    "# 求Sample Size\n",
    "def get_sampSize(sds,alpha,beta,d):\n",
    "    n=pow((get_z_score(1-alpha/2)*sds[0]+get_z_score(1-beta)*sds[1]),2)/pow(d,2)\n",
    "    return n\n",
    "GC[\"d\"]=0.01\n",
    "R[\"d\"]=0.01\n",
    "NC[\"d\"]=0.0075\n",
    "# Let's get an integer value for simplicity\n",
    "GC['sampsize']=round(get_sampSize(get_sds(GC['p'],GC['d']),0.05,0.2,GC['d']))\n",
    "print(GC['sampsize'])\n",
    "GC['sampsize']=round(GC['sampsize']/0.08*2)\n",
    "print(GC['sampsize'])\n",
    "# Getting a nice integer value\n",
    "R['sampsize']=round(get_sampSize(get_sds(R['p'],R['d']),0.05,0.2,R['d']))\n",
    "print(R['sampsize'])\n",
    "R['sampsize']=R['sampsize']/0.08/0.20625*2\n",
    "print(R['sampsize'])\n",
    "# Getting a nice integer value\n",
    "NC['sampsize']=round(get_sampSize(get_sds(NC['p'],NC['d']),0.05,0.2,NC['d']))\n",
    "print(NC['sampsize'])\n",
    "NC['sampsize']=NC['sampsize']/0.08*2\n",
    "print(NC['sampsize'])\n"
   ]
  },
  {
   "cell_type": "code",
   "execution_count": 9,
   "metadata": {},
   "outputs": [
    {
     "name": "stdout",
     "output_type": "stream",
     "text": [
      "          Date  Pageviews  Clicks  Enrollments  Payments\n",
      "0  Sat, Oct 11       7723     687        134.0      70.0\n",
      "1  Sun, Oct 12       9102     779        147.0      70.0\n",
      "2  Mon, Oct 13      10511     909        167.0      95.0\n",
      "3  Tue, Oct 14       9871     836        156.0     105.0\n",
      "4  Wed, Oct 15      10014     837        163.0      64.0\n",
      "number of pageviews in control: 345543\n",
      "number of Pageviewsin experiment: 344660\n",
      "17293\n",
      "17260\n",
      "3785.0\n",
      "3423.0\n",
      "The change due to the experiment is -2.06 %\n",
      "Confidence Interval: [ -0.0292 , -0.012 ]\n",
      "The change is statistically significant if the CI doesn't include 0. In that case, it is practically significant if -0.01 is not in the CI as well.\n"
     ]
    }
   ],
   "source": [
    "# 載入數據\n",
    "control=pd.read_csv(\"control_data.csv\")\n",
    "experiment=pd.read_csv(\"experiment_data.csv\")\n",
    "print(control.head())\n",
    "pageviews_cont = control['Pageviews'].sum()\n",
    "pageviews_exp = experiment['Pageviews'].sum()\n",
    "pageviews_total=pageviews_cont+pageviews_exp\n",
    "print (\"number of pageviews in control:\", pageviews_cont)\n",
    "print (\"number of Pageviewsin experiment:\" ,pageviews_exp)\n",
    "# Count the total clicks from complete records only\n",
    "clicks_cont = control['Clicks'].loc[control['Enrollments'].notnull()].sum()\n",
    "print(clicks_cont)\n",
    "clicks_exp = experiment['Clicks'].loc[experiment['Enrollments'].notnull()].sum()\n",
    "print(clicks_exp)\n",
    "# Gross Conversion - number of enrollments divided by number of clicks\n",
    "enrollments_cont=control['Enrollments'].sum()\n",
    "enrollments_exp=experiment['Enrollments'].sum()\n",
    "print(enrollments_cont)\n",
    "print(enrollments_exp)\n",
    "GC_cont = enrollments_cont/clicks_cont\n",
    "GC_exp = enrollments_exp/clicks_exp\n",
    "GC_pooled = (enrollments_cont+enrollments_exp)/(clicks_cont+clicks_exp) #d\n",
    "GC_sd_pooled = mt.sqrt(GC_pooled*(1-GC_pooled)*(1/clicks_cont+1/clicks_exp))\n",
    "alpha = 0.05\n",
    "GC_ME = round(get_z_score(1-alpha/2)*GC_sd_pooled,4)\n",
    "GC_diff = round(GC_exp-GC_cont,4)\n",
    "print(\"The change due to the experiment is\",GC_diff*100,\"%\")\n",
    "print(\"Confidence Interval: [\",GC_diff-GC_ME,\",\",GC_diff+GC_ME,\"]\")\n",
    "print (\"The change is statistically significant if the CI doesn't include 0. In that case, it is practically significant if\",-GC[\"d_min\"],\"is not in the CI as well.\")"
   ]
  },
  {
   "cell_type": "code",
   "execution_count": 10,
   "metadata": {},
   "outputs": [
    {
     "name": "stdout",
     "output_type": "stream",
     "text": [
      "2033.0\n",
      "1945.0\n",
      "The change due to the experiment is -0.49 %\n",
      "Confidence Interval: [ -0.0116 , 0.0018000000000000004 ]\n",
      "The change is statistically significant if the CI doesn't include 0. In that case, it is practically significant if 0.0075 is not in the CI as well.\n"
     ]
    }
   ],
   "source": [
    "#Net Conversion - number of payments divided by number of clicks\n",
    "payments_cont = control['Payments'].sum()\n",
    "payments_exp = experiment['Payments'].sum()\n",
    "print(payments_cont)\n",
    "print(payments_exp)\n",
    "NC_cont = payments_cont/clicks_cont\n",
    "NC_exp = payments_exp/clicks_exp\n",
    "NC_pooled = (payments_cont+payments_exp)/(clicks_cont+clicks_exp) #d\n",
    "NC_sd_pooled = mt.sqrt(NC_pooled*(1-NC_pooled)*(1/clicks_cont+1/clicks_exp))\n",
    "alpha = 0.05\n",
    "NC_ME = round(get_z_score(1-alpha/2)*NC_sd_pooled,4)\n",
    "NC_diff = round(NC_exp-NC_cont,4)\n",
    "print(\"The change due to the experiment is\",NC_diff*100,\"%\")\n",
    "print(\"Confidence Interval: [\",NC_diff-NC_ME,\",\",NC_diff+NC_ME,\"]\")\n",
    "print (\"The change is statistically significant if the CI doesn't include 0. In that case, it is practically significant if\",NC[\"d_min\"],\"is not in the CI as well.\")"
   ]
  },
  {
   "cell_type": "code",
   "execution_count": 11,
   "metadata": {},
   "outputs": [
    {
     "name": "stdout",
     "output_type": "stream",
     "text": [
      "{'d_min': 0.01, 'p': 0.20625, 'n': 400.0, 'sd': 0.0202, 'd': 0.01, 'sampsize': 645875.0}\n",
      "-0.02494345647889673 25231\n",
      "required n of pageviews= 630775.0\n"
     ]
    }
   ],
   "source": [
    "# 嘗試以函數算出樣本數\n",
    "import statsmodels.stats.api as sms\n",
    "from math import ceil\n",
    "print(GC)\n",
    "# want to know the size for GC with bias = 1* min change which is practical significant.\n",
    "effect_size = sms.proportion_effectsize(GC['p']-1.0*GC['d_min'],GC['p']+0.0*GC['d_min'])\n",
    "required_n = sms.NormalIndPower().solve_power(\n",
    "    effect_size,\n",
    "    power = 0.8,\n",
    "    alpha = 0.05,\n",
    "    ratio = 1\n",
    "    )\n",
    "required_n = ceil(required_n)\n",
    "print(effect_size, required_n)\n",
    "print('required n of pageviews=',required_n/0.08*2)\n"
   ]
  },
  {
   "cell_type": "code",
   "execution_count": 12,
   "metadata": {},
   "outputs": [
    {
     "name": "stdout",
     "output_type": "stream",
     "text": [
      "(-0.020554874580361565, array([-0.0291232 , -0.01198655]))\n"
     ]
    }
   ],
   "source": [
    "#  自行開發雙樣本比例的信賴區間函數\n",
    "import scipy.stats as stats\n",
    "def two_proprotions_confint(success_a, size_a, success_b, size_b, significance = 0.05):\n",
    "    prop_a = success_a / size_a\n",
    "    prop_b = success_b / size_b\n",
    "    pooled = (success_a+success_b)/(size_a+size_b)\n",
    "    sd_pooled = mt.sqrt(pooled*(1-pooled)*(1/size_a+1/size_b))\n",
    "    # var = prop_a * (1 - prop_a) / size_a + prop_b * (1 - prop_b) / size_b\n",
    "    # se = np.sqrt(var)\n",
    "    z = stats.norm.ppf(1 - (significance / 2))\n",
    "    prop_diff = prop_b - prop_a\n",
    "    confint = prop_diff + np.array([-1, 1]) * z * sd_pooled\n",
    "    return prop_diff, confint\n",
    "print(two_proprotions_confint(enrollments_cont, clicks_cont, enrollments_exp, clicks_exp, significance = 0.05))\n"
   ]
  },
  {
   "cell_type": "code",
   "execution_count": null,
   "metadata": {},
   "outputs": [],
   "source": []
  }
 ],
 "metadata": {
  "kernelspec": {
   "display_name": "Python 3",
   "language": "python",
   "name": "python3"
  },
  "language_info": {
   "codemirror_mode": {
    "name": "ipython",
    "version": 3
   },
   "file_extension": ".py",
   "mimetype": "text/x-python",
   "name": "python",
   "nbconvert_exporter": "python",
   "pygments_lexer": "ipython3",
   "version": "3.8.5"
  }
 },
 "nbformat": 4,
 "nbformat_minor": 4
}
